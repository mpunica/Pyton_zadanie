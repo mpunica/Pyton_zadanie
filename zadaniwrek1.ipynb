{
  "nbformat": 4,
  "nbformat_minor": 0,
  "metadata": {
    "colab": {
      "name": "zadaniwrek1.ipynb",
      "provenance": [],
      "authorship_tag": "ABX9TyO73HpPW2AjMcut8BHvT32k",
      "include_colab_link": true
    },
    "kernelspec": {
      "name": "python3",
      "display_name": "Python 3"
    }
  },
  "cells": [
    {
      "cell_type": "markdown",
      "metadata": {
        "id": "view-in-github",
        "colab_type": "text"
      },
      "source": [
        "<a href=\"https://colab.research.google.com/github/mpunica/Pyton_zadanie/blob/main/zadaniwrek1.ipynb\" target=\"_parent\"><img src=\"https://colab.research.google.com/assets/colab-badge.svg\" alt=\"Open In Colab\"/></a>"
      ]
    },
    {
      "cell_type": "code",
      "metadata": {
        "id": "c-IR4NsnD8Tw"
      },
      "source": [
        "def are_anagrams(s1, s2, s3):\r\n",
        "#sprawdza założenie maksynalnej długości łańcuchów znaków równej 5, jeżeli nie wyświetla \"maksymala długość każedo znaku wynosi 5, wpisz właściwe wartości\",jeżeli tal  przechodzi do następnej funkcji\r\n",
        "    if len(s1)<= 5 and len(s2)<=5 and len(s3)<=5:\r\n",
        "        #sprawdza czy wartości są anagramami, porównanuje posortowane łaścuchy, zwraca wartość porównania wartości bool\r\n",
        "        return sorted(s1) == sorted(s2) and sorted(s2) == sorted(s3)\r\n",
        "    return 'maksymala długość każedo znaku wynosi 5, wpisz właściwe wartości'"
      ],
      "execution_count": 5,
      "outputs": []
    },
    {
      "cell_type": "code",
      "metadata": {
        "id": "YGslbHJHKjWR"
      },
      "source": [
        "a=\"8778\"\r\n",
        "b=\"785885\"\r\n",
        "c=\"8787\""
      ],
      "execution_count": 33,
      "outputs": []
    },
    {
      "cell_type": "code",
      "metadata": {
        "colab": {
          "base_uri": "https://localhost:8080/",
          "height": 35
        },
        "id": "BPfebAoMK2BY",
        "outputId": "fffe5cca-0b8b-4d5d-e610-81e6befc0c5f"
      },
      "source": [
        "are_anagrams(a,b,c)"
      ],
      "execution_count": 34,
      "outputs": [
        {
          "output_type": "execute_result",
          "data": {
            "application/vnd.google.colaboratory.intrinsic+json": {
              "type": "string"
            },
            "text/plain": [
              "'maksymala długość każedo znaku wynosi 5, wpisz właściwe wartości'"
            ]
          },
          "metadata": {
            "tags": []
          },
          "execution_count": 34
        }
      ]
    }
  ]
}